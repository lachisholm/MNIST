{
  "nbformat": 4,
  "nbformat_minor": 0,
  "metadata": {
    "colab": {
      "provenance": [],
      "authorship_tag": "ABX9TyPFBSHpy8+GVxXP9rnmAsKF",
      "include_colab_link": true
    },
    "kernelspec": {
      "name": "python3",
      "display_name": "Python 3"
    },
    "language_info": {
      "name": "python"
    }
  },
  "cells": [
    {
      "cell_type": "markdown",
      "metadata": {
        "id": "view-in-github",
        "colab_type": "text"
      },
      "source": [
        "<a href=\"https://colab.research.google.com/github/lachisholm/MNIST/blob/main/MNIST.ipynb\" target=\"_parent\"><img src=\"https://colab.research.google.com/assets/colab-badge.svg\" alt=\"Open In Colab\"/></a>"
      ]
    },
    {
      "cell_type": "markdown",
      "source": [
        "# **Classifying MNIST handwritten digits with softmax regression**"
      ],
      "metadata": {
        "id": "PtD1jwx29tO5"
      }
    },
    {
      "cell_type": "markdown",
      "source": [
        "Install and Import ***Libraries***"
      ],
      "metadata": {
        "id": "f-IlGcvXRl5g"
      }
    },
    {
      "cell_type": "code",
      "source": [
        "!pip install tensorflow -q\n",
        "\n",
        "import tensorflow as tf\n",
        "from tensorflow.keras.datasets import mnist\n",
        "from tensorflow.keras.utils import to_categorical"
      ],
      "metadata": {
        "id": "D0EDTM-lRtME"
      },
      "execution_count": 1,
      "outputs": []
    },
    {
      "cell_type": "markdown",
      "source": [
        "Load and Preprocess MNIST Dataset"
      ],
      "metadata": {
        "id": "-RqSokjxSV3K"
      }
    },
    {
      "cell_type": "code",
      "source": [
        "# MNIST dataset\n",
        "\n",
        "(x_train, y_train), (x_test, y_test) = mnist.load_data()\n",
        "\n",
        "# Normalize data to [0,1] range and flatten\n",
        "x_train = x_train.reshape(-1, 784).astype('float32') /255.0\n",
        "x_test = x_test.reshape(-1, 784).astype('float32')/255.0\n",
        "\n",
        "# One-hot\n",
        "y_train = to_categorical(y_train, 10)\n",
        "y_test = to_categorical(y_test, 10)"
      ],
      "metadata": {
        "colab": {
          "base_uri": "https://localhost:8080/"
        },
        "id": "NWIyZwE-UJi5",
        "outputId": "be379ea1-2850-454d-8c0d-98ba51791235"
      },
      "execution_count": 2,
      "outputs": [
        {
          "output_type": "stream",
          "name": "stdout",
          "text": [
            "Downloading data from https://storage.googleapis.com/tensorflow/tf-keras-datasets/mnist.npz\n",
            "\u001b[1m11490434/11490434\u001b[0m \u001b[32m━━━━━━━━━━━━━━━━━━━━\u001b[0m\u001b[37m\u001b[0m \u001b[1m0s\u001b[0m 0us/step\n"
          ]
        }
      ]
    },
    {
      "cell_type": "markdown",
      "source": [
        "***Build Model***"
      ],
      "metadata": {
        "id": "vMb86o2kVN6k"
      }
    },
    {
      "cell_type": "code",
      "source": [
        "# Define the medol\n",
        "model = tf.keras.Sequential([\n",
        "    tf.keras.layers.Dense(10, activation='softmax', input_shape=(784,))\n",
        "])\n",
        "\n",
        "\n",
        "# Compile\n",
        "model.compile(optimizer='sgd', loss='categorical_crossentropy', metrics=['accuracy'])"
      ],
      "metadata": {
        "colab": {
          "base_uri": "https://localhost:8080/"
        },
        "id": "Qi5rlgfrVTem",
        "outputId": "41ee9976-200c-46f6-f193-e2c58c2385b9"
      },
      "execution_count": 4,
      "outputs": [
        {
          "output_type": "stream",
          "name": "stderr",
          "text": [
            "/usr/local/lib/python3.10/dist-packages/keras/src/layers/core/dense.py:87: UserWarning: Do not pass an `input_shape`/`input_dim` argument to a layer. When using Sequential models, prefer using an `Input(shape)` object as the first layer in the model instead.\n",
            "  super().__init__(activity_regularizer=activity_regularizer, **kwargs)\n"
          ]
        }
      ]
    }
  ]
}