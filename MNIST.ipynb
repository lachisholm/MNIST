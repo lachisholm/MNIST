{
  "nbformat": 4,
  "nbformat_minor": 0,
  "metadata": {
    "colab": {
      "provenance": [],
      "authorship_tag": "ABX9TyNwbe/zh9qyUdgD5lBjq/4D",
      "include_colab_link": true
    },
    "kernelspec": {
      "name": "python3",
      "display_name": "Python 3"
    },
    "language_info": {
      "name": "python"
    }
  },
  "cells": [
    {
      "cell_type": "markdown",
      "metadata": {
        "id": "view-in-github",
        "colab_type": "text"
      },
      "source": [
        "<a href=\"https://colab.research.google.com/github/lachisholm/MNIST/blob/main/MNIST.ipynb\" target=\"_parent\"><img src=\"https://colab.research.google.com/assets/colab-badge.svg\" alt=\"Open In Colab\"/></a>"
      ]
    },
    {
      "cell_type": "markdown",
      "source": [
        "# **Classifying MNIST handwritten digits with softmax regression**"
      ],
      "metadata": {
        "id": "PtD1jwx29tO5"
      }
    },
    {
      "cell_type": "markdown",
      "source": [
        "Install and Import ***Libraries***"
      ],
      "metadata": {
        "id": "f-IlGcvXRl5g"
      }
    },
    {
      "cell_type": "code",
      "source": [
        "!pip install tensorflow -q\n",
        "\n",
        "import tensorflow as tf\n",
        "from tensorflow.keras.datasets import mnist\n",
        "from tensorflow.keras.utils import to_categorical"
      ],
      "metadata": {
        "id": "D0EDTM-lRtME"
      },
      "execution_count": 1,
      "outputs": []
    },
    {
      "cell_type": "markdown",
      "source": [
        "Load and Preprocess MNIST Dataset"
      ],
      "metadata": {
        "id": "-RqSokjxSV3K"
      }
    },
    {
      "cell_type": "code",
      "source": [
        "# MNIST dataset\n",
        "\n",
        "(x_train, y_train), (x_test, y_test) = mnist.load_data()\n",
        "\n",
        "# Normalize data to [0,1] range and flatten\n",
        "x_train = x_train.reshape(-1, 784).astype('float32') /255.0\n",
        "x_test = x_test.reshape(-1, 784).astype('float32')/255.0\n",
        "\n",
        "# One-hot\n",
        "y_train = to_categorical(y_train, 10)\n",
        "y_test = to_categorical(y_test, 10)"
      ],
      "metadata": {
        "colab": {
          "base_uri": "https://localhost:8080/"
        },
        "id": "NWIyZwE-UJi5",
        "outputId": "be379ea1-2850-454d-8c0d-98ba51791235"
      },
      "execution_count": 2,
      "outputs": [
        {
          "output_type": "stream",
          "name": "stdout",
          "text": [
            "Downloading data from https://storage.googleapis.com/tensorflow/tf-keras-datasets/mnist.npz\n",
            "\u001b[1m11490434/11490434\u001b[0m \u001b[32m━━━━━━━━━━━━━━━━━━━━\u001b[0m\u001b[37m\u001b[0m \u001b[1m0s\u001b[0m 0us/step\n"
          ]
        }
      ]
    },
    {
      "cell_type": "markdown",
      "source": [
        "***Build Model***"
      ],
      "metadata": {
        "id": "vMb86o2kVN6k"
      }
    },
    {
      "cell_type": "code",
      "source": [
        "# Define the medol\n",
        "\n",
        "from tensorflow.keras.models import Sequential\n",
        "from tensorflow.keras.layers import Input, Dense\n",
        "\n",
        "model = tf.keras.Sequential([\n",
        "    Input(shape=(784,)),\n",
        "\n",
        "    tf.keras.layers.Dense(10, activation='softmax')\n",
        "])\n",
        "\n",
        "\n",
        "# Compile\n",
        "model.compile(optimizer='sgd',\n",
        "              loss='categorical_crossentropy',\n",
        "              metrics=['accuracy'])"
      ],
      "metadata": {
        "id": "Qi5rlgfrVTem"
      },
      "execution_count": 6,
      "outputs": []
    },
    {
      "cell_type": "markdown",
      "source": [
        "***Train the Model***"
      ],
      "metadata": {
        "id": "OTKzjdmtZ8Jl"
      }
    },
    {
      "cell_type": "code",
      "source": [
        "# Train\n",
        "\n",
        "NUM_EPOCHS = 100\n",
        "BATCH_SIZE = 500\n",
        "\n",
        "history = model.fit(\n",
        "    x_train, y_train,\n",
        "    epochs=NUM_EPOCHS,\n",
        "    batch_size=BATCH_SIZE,\n",
        "    validation_data=(x_test, y_test)\n",
        ")"
      ],
      "metadata": {
        "colab": {
          "base_uri": "https://localhost:8080/"
        },
        "id": "qjnZ9tpyaCIl",
        "outputId": "f660e52c-4cef-453c-f982-dbe1d1115cff"
      },
      "execution_count": 8,
      "outputs": [
        {
          "output_type": "stream",
          "name": "stdout",
          "text": [
            "Epoch 1/100\n",
            "\u001b[1m120/120\u001b[0m \u001b[32m━━━━━━━━━━━━━━━━━━━━\u001b[0m\u001b[37m\u001b[0m \u001b[1m1s\u001b[0m 6ms/step - accuracy: 0.2812 - loss: 2.1543 - val_accuracy: 0.6649 - val_loss: 1.5166\n",
            "Epoch 2/100\n",
            "\u001b[1m120/120\u001b[0m \u001b[32m━━━━━━━━━━━━━━━━━━━━\u001b[0m\u001b[37m\u001b[0m \u001b[1m1s\u001b[0m 5ms/step - accuracy: 0.7045 - loss: 1.4133 - val_accuracy: 0.7806 - val_loss: 1.1218\n",
            "Epoch 3/100\n",
            "\u001b[1m120/120\u001b[0m \u001b[32m━━━━━━━━━━━━━━━━━━━━\u001b[0m\u001b[37m\u001b[0m \u001b[1m1s\u001b[0m 5ms/step - accuracy: 0.7860 - loss: 1.0886 - val_accuracy: 0.8175 - val_loss: 0.9231\n",
            "Epoch 4/100\n",
            "\u001b[1m120/120\u001b[0m \u001b[32m━━━━━━━━━━━━━━━━━━━━\u001b[0m\u001b[37m\u001b[0m \u001b[1m1s\u001b[0m 5ms/step - accuracy: 0.8124 - loss: 0.9142 - val_accuracy: 0.8339 - val_loss: 0.8062\n",
            "Epoch 5/100\n",
            "\u001b[1m120/120\u001b[0m \u001b[32m━━━━━━━━━━━━━━━━━━━━\u001b[0m\u001b[37m\u001b[0m \u001b[1m1s\u001b[0m 5ms/step - accuracy: 0.8244 - loss: 0.8159 - val_accuracy: 0.8445 - val_loss: 0.7294\n",
            "Epoch 6/100\n",
            "\u001b[1m120/120\u001b[0m \u001b[32m━━━━━━━━━━━━━━━━━━━━\u001b[0m\u001b[37m\u001b[0m \u001b[1m1s\u001b[0m 4ms/step - accuracy: 0.8360 - loss: 0.7467 - val_accuracy: 0.8524 - val_loss: 0.6746\n",
            "Epoch 7/100\n",
            "\u001b[1m120/120\u001b[0m \u001b[32m━━━━━━━━━━━━━━━━━━━━\u001b[0m\u001b[37m\u001b[0m \u001b[1m1s\u001b[0m 5ms/step - accuracy: 0.8449 - loss: 0.6873 - val_accuracy: 0.8576 - val_loss: 0.6337\n",
            "Epoch 8/100\n",
            "\u001b[1m120/120\u001b[0m \u001b[32m━━━━━━━━━━━━━━━━━━━━\u001b[0m\u001b[37m\u001b[0m \u001b[1m1s\u001b[0m 5ms/step - accuracy: 0.8554 - loss: 0.6417 - val_accuracy: 0.8623 - val_loss: 0.6016\n",
            "Epoch 9/100\n",
            "\u001b[1m120/120\u001b[0m \u001b[32m━━━━━━━━━━━━━━━━━━━━\u001b[0m\u001b[37m\u001b[0m \u001b[1m2s\u001b[0m 8ms/step - accuracy: 0.8570 - loss: 0.6179 - val_accuracy: 0.8664 - val_loss: 0.5757\n",
            "Epoch 10/100\n",
            "\u001b[1m120/120\u001b[0m \u001b[32m━━━━━━━━━━━━━━━━━━━━\u001b[0m\u001b[37m\u001b[0m \u001b[1m1s\u001b[0m 6ms/step - accuracy: 0.8580 - loss: 0.5986 - val_accuracy: 0.8682 - val_loss: 0.5543\n",
            "Epoch 11/100\n",
            "\u001b[1m120/120\u001b[0m \u001b[32m━━━━━━━━━━━━━━━━━━━━\u001b[0m\u001b[37m\u001b[0m \u001b[1m1s\u001b[0m 5ms/step - accuracy: 0.8603 - loss: 0.5743 - val_accuracy: 0.8706 - val_loss: 0.5363\n",
            "Epoch 12/100\n",
            "\u001b[1m120/120\u001b[0m \u001b[32m━━━━━━━━━━━━━━━━━━━━\u001b[0m\u001b[37m\u001b[0m \u001b[1m2s\u001b[0m 7ms/step - accuracy: 0.8642 - loss: 0.5587 - val_accuracy: 0.8721 - val_loss: 0.5209\n",
            "Epoch 13/100\n",
            "\u001b[1m120/120\u001b[0m \u001b[32m━━━━━━━━━━━━━━━━━━━━\u001b[0m\u001b[37m\u001b[0m \u001b[1m1s\u001b[0m 7ms/step - accuracy: 0.8652 - loss: 0.5453 - val_accuracy: 0.8739 - val_loss: 0.5075\n",
            "Epoch 14/100\n",
            "\u001b[1m120/120\u001b[0m \u001b[32m━━━━━━━━━━━━━━━━━━━━\u001b[0m\u001b[37m\u001b[0m \u001b[1m1s\u001b[0m 5ms/step - accuracy: 0.8653 - loss: 0.5330 - val_accuracy: 0.8754 - val_loss: 0.4957\n",
            "Epoch 15/100\n",
            "\u001b[1m120/120\u001b[0m \u001b[32m━━━━━━━━━━━━━━━━━━━━\u001b[0m\u001b[37m\u001b[0m \u001b[1m1s\u001b[0m 5ms/step - accuracy: 0.8712 - loss: 0.5153 - val_accuracy: 0.8774 - val_loss: 0.4854\n",
            "Epoch 16/100\n",
            "\u001b[1m120/120\u001b[0m \u001b[32m━━━━━━━━━━━━━━━━━━━━\u001b[0m\u001b[37m\u001b[0m \u001b[1m1s\u001b[0m 5ms/step - accuracy: 0.8726 - loss: 0.5078 - val_accuracy: 0.8794 - val_loss: 0.4760\n",
            "Epoch 17/100\n",
            "\u001b[1m120/120\u001b[0m \u001b[32m━━━━━━━━━━━━━━━━━━━━\u001b[0m\u001b[37m\u001b[0m \u001b[1m1s\u001b[0m 5ms/step - accuracy: 0.8712 - loss: 0.4973 - val_accuracy: 0.8807 - val_loss: 0.4677\n",
            "Epoch 18/100\n",
            "\u001b[1m120/120\u001b[0m \u001b[32m━━━━━━━━━━━━━━━━━━━━\u001b[0m\u001b[37m\u001b[0m \u001b[1m1s\u001b[0m 5ms/step - accuracy: 0.8750 - loss: 0.4871 - val_accuracy: 0.8822 - val_loss: 0.4601\n",
            "Epoch 19/100\n",
            "\u001b[1m120/120\u001b[0m \u001b[32m━━━━━━━━━━━━━━━━━━━━\u001b[0m\u001b[37m\u001b[0m \u001b[1m1s\u001b[0m 5ms/step - accuracy: 0.8753 - loss: 0.4826 - val_accuracy: 0.8831 - val_loss: 0.4532\n",
            "Epoch 20/100\n",
            "\u001b[1m120/120\u001b[0m \u001b[32m━━━━━━━━━━━━━━━━━━━━\u001b[0m\u001b[37m\u001b[0m \u001b[1m1s\u001b[0m 4ms/step - accuracy: 0.8770 - loss: 0.4747 - val_accuracy: 0.8842 - val_loss: 0.4468\n",
            "Epoch 21/100\n",
            "\u001b[1m120/120\u001b[0m \u001b[32m━━━━━━━━━━━━━━━━━━━━\u001b[0m\u001b[37m\u001b[0m \u001b[1m1s\u001b[0m 5ms/step - accuracy: 0.8784 - loss: 0.4667 - val_accuracy: 0.8854 - val_loss: 0.4410\n",
            "Epoch 22/100\n",
            "\u001b[1m120/120\u001b[0m \u001b[32m━━━━━━━━━━━━━━━━━━━━\u001b[0m\u001b[37m\u001b[0m \u001b[1m2s\u001b[0m 7ms/step - accuracy: 0.8807 - loss: 0.4600 - val_accuracy: 0.8866 - val_loss: 0.4356\n",
            "Epoch 23/100\n",
            "\u001b[1m120/120\u001b[0m \u001b[32m━━━━━━━━━━━━━━━━━━━━\u001b[0m\u001b[37m\u001b[0m \u001b[1m1s\u001b[0m 7ms/step - accuracy: 0.8806 - loss: 0.4581 - val_accuracy: 0.8875 - val_loss: 0.4307\n",
            "Epoch 24/100\n",
            "\u001b[1m120/120\u001b[0m \u001b[32m━━━━━━━━━━━━━━━━━━━━\u001b[0m\u001b[37m\u001b[0m \u001b[1m1s\u001b[0m 6ms/step - accuracy: 0.8801 - loss: 0.4540 - val_accuracy: 0.8879 - val_loss: 0.4260\n",
            "Epoch 25/100\n",
            "\u001b[1m120/120\u001b[0m \u001b[32m━━━━━━━━━━━━━━━━━━━━\u001b[0m\u001b[37m\u001b[0m \u001b[1m1s\u001b[0m 4ms/step - accuracy: 0.8821 - loss: 0.4500 - val_accuracy: 0.8887 - val_loss: 0.4216\n",
            "Epoch 26/100\n",
            "\u001b[1m120/120\u001b[0m \u001b[32m━━━━━━━━━━━━━━━━━━━━\u001b[0m\u001b[37m\u001b[0m \u001b[1m1s\u001b[0m 4ms/step - accuracy: 0.8836 - loss: 0.4405 - val_accuracy: 0.8899 - val_loss: 0.4176\n",
            "Epoch 27/100\n",
            "\u001b[1m120/120\u001b[0m \u001b[32m━━━━━━━━━━━━━━━━━━━━\u001b[0m\u001b[37m\u001b[0m \u001b[1m1s\u001b[0m 5ms/step - accuracy: 0.8847 - loss: 0.4394 - val_accuracy: 0.8908 - val_loss: 0.4138\n",
            "Epoch 28/100\n",
            "\u001b[1m120/120\u001b[0m \u001b[32m━━━━━━━━━━━━━━━━━━━━\u001b[0m\u001b[37m\u001b[0m \u001b[1m1s\u001b[0m 4ms/step - accuracy: 0.8820 - loss: 0.4387 - val_accuracy: 0.8918 - val_loss: 0.4102\n",
            "Epoch 29/100\n",
            "\u001b[1m120/120\u001b[0m \u001b[32m━━━━━━━━━━━━━━━━━━━━\u001b[0m\u001b[37m\u001b[0m \u001b[1m1s\u001b[0m 4ms/step - accuracy: 0.8862 - loss: 0.4281 - val_accuracy: 0.8922 - val_loss: 0.4068\n",
            "Epoch 30/100\n",
            "\u001b[1m120/120\u001b[0m \u001b[32m━━━━━━━━━━━━━━━━━━━━\u001b[0m\u001b[37m\u001b[0m \u001b[1m1s\u001b[0m 4ms/step - accuracy: 0.8879 - loss: 0.4241 - val_accuracy: 0.8927 - val_loss: 0.4036\n",
            "Epoch 31/100\n",
            "\u001b[1m120/120\u001b[0m \u001b[32m━━━━━━━━━━━━━━━━━━━━\u001b[0m\u001b[37m\u001b[0m \u001b[1m1s\u001b[0m 4ms/step - accuracy: 0.8866 - loss: 0.4273 - val_accuracy: 0.8932 - val_loss: 0.4005\n",
            "Epoch 32/100\n",
            "\u001b[1m120/120\u001b[0m \u001b[32m━━━━━━━━━━━━━━━━━━━━\u001b[0m\u001b[37m\u001b[0m \u001b[1m1s\u001b[0m 5ms/step - accuracy: 0.8883 - loss: 0.4203 - val_accuracy: 0.8938 - val_loss: 0.3977\n",
            "Epoch 33/100\n",
            "\u001b[1m120/120\u001b[0m \u001b[32m━━━━━━━━━━━━━━━━━━━━\u001b[0m\u001b[37m\u001b[0m \u001b[1m1s\u001b[0m 4ms/step - accuracy: 0.8870 - loss: 0.4215 - val_accuracy: 0.8947 - val_loss: 0.3949\n",
            "Epoch 34/100\n",
            "\u001b[1m120/120\u001b[0m \u001b[32m━━━━━━━━━━━━━━━━━━━━\u001b[0m\u001b[37m\u001b[0m \u001b[1m1s\u001b[0m 5ms/step - accuracy: 0.8902 - loss: 0.4149 - val_accuracy: 0.8950 - val_loss: 0.3923\n",
            "Epoch 35/100\n",
            "\u001b[1m120/120\u001b[0m \u001b[32m━━━━━━━━━━━━━━━━━━━━\u001b[0m\u001b[37m\u001b[0m \u001b[1m1s\u001b[0m 5ms/step - accuracy: 0.8877 - loss: 0.4164 - val_accuracy: 0.8955 - val_loss: 0.3898\n",
            "Epoch 36/100\n",
            "\u001b[1m120/120\u001b[0m \u001b[32m━━━━━━━━━━━━━━━━━━━━\u001b[0m\u001b[37m\u001b[0m \u001b[1m1s\u001b[0m 4ms/step - accuracy: 0.8905 - loss: 0.4066 - val_accuracy: 0.8961 - val_loss: 0.3875\n",
            "Epoch 37/100\n",
            "\u001b[1m120/120\u001b[0m \u001b[32m━━━━━━━━━━━━━━━━━━━━\u001b[0m\u001b[37m\u001b[0m \u001b[1m1s\u001b[0m 5ms/step - accuracy: 0.8887 - loss: 0.4100 - val_accuracy: 0.8965 - val_loss: 0.3852\n",
            "Epoch 38/100\n",
            "\u001b[1m120/120\u001b[0m \u001b[32m━━━━━━━━━━━━━━━━━━━━\u001b[0m\u001b[37m\u001b[0m \u001b[1m1s\u001b[0m 4ms/step - accuracy: 0.8905 - loss: 0.4043 - val_accuracy: 0.8967 - val_loss: 0.3831\n",
            "Epoch 39/100\n",
            "\u001b[1m120/120\u001b[0m \u001b[32m━━━━━━━━━━━━━━━━━━━━\u001b[0m\u001b[37m\u001b[0m \u001b[1m1s\u001b[0m 5ms/step - accuracy: 0.8929 - loss: 0.4003 - val_accuracy: 0.8973 - val_loss: 0.3809\n",
            "Epoch 40/100\n",
            "\u001b[1m120/120\u001b[0m \u001b[32m━━━━━━━━━━━━━━━━━━━━\u001b[0m\u001b[37m\u001b[0m \u001b[1m1s\u001b[0m 7ms/step - accuracy: 0.8918 - loss: 0.4017 - val_accuracy: 0.8976 - val_loss: 0.3790\n",
            "Epoch 41/100\n",
            "\u001b[1m120/120\u001b[0m \u001b[32m━━━━━━━━━━━━━━━━━━━━\u001b[0m\u001b[37m\u001b[0m \u001b[1m1s\u001b[0m 8ms/step - accuracy: 0.8910 - loss: 0.4021 - val_accuracy: 0.8983 - val_loss: 0.3770\n",
            "Epoch 42/100\n",
            "\u001b[1m120/120\u001b[0m \u001b[32m━━━━━━━━━━━━━━━━━━━━\u001b[0m\u001b[37m\u001b[0m \u001b[1m2s\u001b[0m 15ms/step - accuracy: 0.8937 - loss: 0.3918 - val_accuracy: 0.8985 - val_loss: 0.3752\n",
            "Epoch 43/100\n",
            "\u001b[1m120/120\u001b[0m \u001b[32m━━━━━━━━━━━━━━━━━━━━\u001b[0m\u001b[37m\u001b[0m \u001b[1m2s\u001b[0m 7ms/step - accuracy: 0.8931 - loss: 0.3957 - val_accuracy: 0.8989 - val_loss: 0.3735\n",
            "Epoch 44/100\n",
            "\u001b[1m120/120\u001b[0m \u001b[32m━━━━━━━━━━━━━━━━━━━━\u001b[0m\u001b[37m\u001b[0m \u001b[1m1s\u001b[0m 5ms/step - accuracy: 0.8928 - loss: 0.3962 - val_accuracy: 0.8993 - val_loss: 0.3718\n",
            "Epoch 45/100\n",
            "\u001b[1m120/120\u001b[0m \u001b[32m━━━━━━━━━━━━━━━━━━━━\u001b[0m\u001b[37m\u001b[0m \u001b[1m1s\u001b[0m 4ms/step - accuracy: 0.8934 - loss: 0.3901 - val_accuracy: 0.8999 - val_loss: 0.3701\n",
            "Epoch 46/100\n",
            "\u001b[1m120/120\u001b[0m \u001b[32m━━━━━━━━━━━━━━━━━━━━\u001b[0m\u001b[37m\u001b[0m \u001b[1m1s\u001b[0m 4ms/step - accuracy: 0.8943 - loss: 0.3896 - val_accuracy: 0.9000 - val_loss: 0.3685\n",
            "Epoch 47/100\n",
            "\u001b[1m120/120\u001b[0m \u001b[32m━━━━━━━━━━━━━━━━━━━━\u001b[0m\u001b[37m\u001b[0m \u001b[1m1s\u001b[0m 5ms/step - accuracy: 0.8940 - loss: 0.3893 - val_accuracy: 0.9001 - val_loss: 0.3669\n",
            "Epoch 48/100\n",
            "\u001b[1m120/120\u001b[0m \u001b[32m━━━━━━━━━━━━━━━━━━━━\u001b[0m\u001b[37m\u001b[0m \u001b[1m1s\u001b[0m 5ms/step - accuracy: 0.8940 - loss: 0.3837 - val_accuracy: 0.9007 - val_loss: 0.3656\n",
            "Epoch 49/100\n",
            "\u001b[1m120/120\u001b[0m \u001b[32m━━━━━━━━━━━━━━━━━━━━\u001b[0m\u001b[37m\u001b[0m \u001b[1m1s\u001b[0m 5ms/step - accuracy: 0.8958 - loss: 0.3845 - val_accuracy: 0.9011 - val_loss: 0.3640\n",
            "Epoch 50/100\n",
            "\u001b[1m120/120\u001b[0m \u001b[32m━━━━━━━━━━━━━━━━━━━━\u001b[0m\u001b[37m\u001b[0m \u001b[1m1s\u001b[0m 4ms/step - accuracy: 0.8961 - loss: 0.3818 - val_accuracy: 0.9013 - val_loss: 0.3627\n",
            "Epoch 51/100\n",
            "\u001b[1m120/120\u001b[0m \u001b[32m━━━━━━━━━━━━━━━━━━━━\u001b[0m\u001b[37m\u001b[0m \u001b[1m1s\u001b[0m 4ms/step - accuracy: 0.8967 - loss: 0.3779 - val_accuracy: 0.9016 - val_loss: 0.3613\n",
            "Epoch 52/100\n",
            "\u001b[1m120/120\u001b[0m \u001b[32m━━━━━━━━━━━━━━━━━━━━\u001b[0m\u001b[37m\u001b[0m \u001b[1m1s\u001b[0m 5ms/step - accuracy: 0.8964 - loss: 0.3792 - val_accuracy: 0.9015 - val_loss: 0.3600\n",
            "Epoch 53/100\n",
            "\u001b[1m120/120\u001b[0m \u001b[32m━━━━━━━━━━━━━━━━━━━━\u001b[0m\u001b[37m\u001b[0m \u001b[1m1s\u001b[0m 5ms/step - accuracy: 0.8978 - loss: 0.3773 - val_accuracy: 0.9019 - val_loss: 0.3587\n",
            "Epoch 54/100\n",
            "\u001b[1m120/120\u001b[0m \u001b[32m━━━━━━━━━━━━━━━━━━━━\u001b[0m\u001b[37m\u001b[0m \u001b[1m1s\u001b[0m 5ms/step - accuracy: 0.8957 - loss: 0.3771 - val_accuracy: 0.9022 - val_loss: 0.3576\n",
            "Epoch 55/100\n",
            "\u001b[1m120/120\u001b[0m \u001b[32m━━━━━━━━━━━━━━━━━━━━\u001b[0m\u001b[37m\u001b[0m \u001b[1m1s\u001b[0m 5ms/step - accuracy: 0.8948 - loss: 0.3802 - val_accuracy: 0.9025 - val_loss: 0.3564\n",
            "Epoch 56/100\n",
            "\u001b[1m120/120\u001b[0m \u001b[32m━━━━━━━━━━━━━━━━━━━━\u001b[0m\u001b[37m\u001b[0m \u001b[1m1s\u001b[0m 5ms/step - accuracy: 0.8969 - loss: 0.3749 - val_accuracy: 0.9031 - val_loss: 0.3552\n",
            "Epoch 57/100\n",
            "\u001b[1m120/120\u001b[0m \u001b[32m━━━━━━━━━━━━━━━━━━━━\u001b[0m\u001b[37m\u001b[0m \u001b[1m2s\u001b[0m 8ms/step - accuracy: 0.8973 - loss: 0.3744 - val_accuracy: 0.9031 - val_loss: 0.3541\n",
            "Epoch 58/100\n",
            "\u001b[1m120/120\u001b[0m \u001b[32m━━━━━━━━━━━━━━━━━━━━\u001b[0m\u001b[37m\u001b[0m \u001b[1m1s\u001b[0m 8ms/step - accuracy: 0.8964 - loss: 0.3735 - val_accuracy: 0.9033 - val_loss: 0.3530\n",
            "Epoch 59/100\n",
            "\u001b[1m120/120\u001b[0m \u001b[32m━━━━━━━━━━━━━━━━━━━━\u001b[0m\u001b[37m\u001b[0m \u001b[1m1s\u001b[0m 5ms/step - accuracy: 0.8972 - loss: 0.3711 - val_accuracy: 0.9037 - val_loss: 0.3519\n",
            "Epoch 60/100\n",
            "\u001b[1m120/120\u001b[0m \u001b[32m━━━━━━━━━━━━━━━━━━━━\u001b[0m\u001b[37m\u001b[0m \u001b[1m1s\u001b[0m 5ms/step - accuracy: 0.8981 - loss: 0.3706 - val_accuracy: 0.9042 - val_loss: 0.3509\n",
            "Epoch 61/100\n",
            "\u001b[1m120/120\u001b[0m \u001b[32m━━━━━━━━━━━━━━━━━━━━\u001b[0m\u001b[37m\u001b[0m \u001b[1m1s\u001b[0m 5ms/step - accuracy: 0.8988 - loss: 0.3676 - val_accuracy: 0.9040 - val_loss: 0.3498\n",
            "Epoch 62/100\n",
            "\u001b[1m120/120\u001b[0m \u001b[32m━━━━━━━━━━━━━━━━━━━━\u001b[0m\u001b[37m\u001b[0m \u001b[1m1s\u001b[0m 5ms/step - accuracy: 0.8960 - loss: 0.3764 - val_accuracy: 0.9047 - val_loss: 0.3489\n",
            "Epoch 63/100\n",
            "\u001b[1m120/120\u001b[0m \u001b[32m━━━━━━━━━━━━━━━━━━━━\u001b[0m\u001b[37m\u001b[0m \u001b[1m1s\u001b[0m 5ms/step - accuracy: 0.9011 - loss: 0.3619 - val_accuracy: 0.9048 - val_loss: 0.3479\n",
            "Epoch 64/100\n",
            "\u001b[1m120/120\u001b[0m \u001b[32m━━━━━━━━━━━━━━━━━━━━\u001b[0m\u001b[37m\u001b[0m \u001b[1m1s\u001b[0m 4ms/step - accuracy: 0.8987 - loss: 0.3643 - val_accuracy: 0.9046 - val_loss: 0.3470\n",
            "Epoch 65/100\n",
            "\u001b[1m120/120\u001b[0m \u001b[32m━━━━━━━━━━━━━━━━━━━━\u001b[0m\u001b[37m\u001b[0m \u001b[1m1s\u001b[0m 5ms/step - accuracy: 0.9013 - loss: 0.3614 - val_accuracy: 0.9050 - val_loss: 0.3461\n",
            "Epoch 66/100\n",
            "\u001b[1m120/120\u001b[0m \u001b[32m━━━━━━━━━━━━━━━━━━━━\u001b[0m\u001b[37m\u001b[0m \u001b[1m1s\u001b[0m 4ms/step - accuracy: 0.8968 - loss: 0.3682 - val_accuracy: 0.9050 - val_loss: 0.3452\n",
            "Epoch 67/100\n",
            "\u001b[1m120/120\u001b[0m \u001b[32m━━━━━━━━━━━━━━━━━━━━\u001b[0m\u001b[37m\u001b[0m \u001b[1m1s\u001b[0m 5ms/step - accuracy: 0.9012 - loss: 0.3593 - val_accuracy: 0.9054 - val_loss: 0.3444\n",
            "Epoch 68/100\n",
            "\u001b[1m120/120\u001b[0m \u001b[32m━━━━━━━━━━━━━━━━━━━━\u001b[0m\u001b[37m\u001b[0m \u001b[1m1s\u001b[0m 5ms/step - accuracy: 0.8985 - loss: 0.3689 - val_accuracy: 0.9056 - val_loss: 0.3435\n",
            "Epoch 69/100\n",
            "\u001b[1m120/120\u001b[0m \u001b[32m━━━━━━━━━━━━━━━━━━━━\u001b[0m\u001b[37m\u001b[0m \u001b[1m1s\u001b[0m 5ms/step - accuracy: 0.9005 - loss: 0.3624 - val_accuracy: 0.9057 - val_loss: 0.3427\n",
            "Epoch 70/100\n",
            "\u001b[1m120/120\u001b[0m \u001b[32m━━━━━━━━━━━━━━━━━━━━\u001b[0m\u001b[37m\u001b[0m \u001b[1m1s\u001b[0m 5ms/step - accuracy: 0.9017 - loss: 0.3552 - val_accuracy: 0.9059 - val_loss: 0.3419\n",
            "Epoch 71/100\n",
            "\u001b[1m120/120\u001b[0m \u001b[32m━━━━━━━━━━━━━━━━━━━━\u001b[0m\u001b[37m\u001b[0m \u001b[1m1s\u001b[0m 5ms/step - accuracy: 0.9008 - loss: 0.3578 - val_accuracy: 0.9062 - val_loss: 0.3411\n",
            "Epoch 72/100\n",
            "\u001b[1m120/120\u001b[0m \u001b[32m━━━━━━━━━━━━━━━━━━━━\u001b[0m\u001b[37m\u001b[0m \u001b[1m1s\u001b[0m 5ms/step - accuracy: 0.8991 - loss: 0.3610 - val_accuracy: 0.9061 - val_loss: 0.3403\n",
            "Epoch 73/100\n",
            "\u001b[1m120/120\u001b[0m \u001b[32m━━━━━━━━━━━━━━━━━━━━\u001b[0m\u001b[37m\u001b[0m \u001b[1m2s\u001b[0m 7ms/step - accuracy: 0.8997 - loss: 0.3604 - val_accuracy: 0.9065 - val_loss: 0.3395\n",
            "Epoch 74/100\n",
            "\u001b[1m120/120\u001b[0m \u001b[32m━━━━━━━━━━━━━━━━━━━━\u001b[0m\u001b[37m\u001b[0m \u001b[1m1s\u001b[0m 8ms/step - accuracy: 0.9010 - loss: 0.3549 - val_accuracy: 0.9065 - val_loss: 0.3388\n",
            "Epoch 75/100\n",
            "\u001b[1m120/120\u001b[0m \u001b[32m━━━━━━━━━━━━━━━━━━━━\u001b[0m\u001b[37m\u001b[0m \u001b[1m1s\u001b[0m 7ms/step - accuracy: 0.9005 - loss: 0.3562 - val_accuracy: 0.9067 - val_loss: 0.3381\n",
            "Epoch 76/100\n",
            "\u001b[1m120/120\u001b[0m \u001b[32m━━━━━━━━━━━━━━━━━━━━\u001b[0m\u001b[37m\u001b[0m \u001b[1m1s\u001b[0m 5ms/step - accuracy: 0.9036 - loss: 0.3515 - val_accuracy: 0.9067 - val_loss: 0.3373\n",
            "Epoch 77/100\n",
            "\u001b[1m120/120\u001b[0m \u001b[32m━━━━━━━━━━━━━━━━━━━━\u001b[0m\u001b[37m\u001b[0m \u001b[1m1s\u001b[0m 5ms/step - accuracy: 0.9027 - loss: 0.3491 - val_accuracy: 0.9068 - val_loss: 0.3367\n",
            "Epoch 78/100\n",
            "\u001b[1m120/120\u001b[0m \u001b[32m━━━━━━━━━━━━━━━━━━━━\u001b[0m\u001b[37m\u001b[0m \u001b[1m1s\u001b[0m 5ms/step - accuracy: 0.9019 - loss: 0.3547 - val_accuracy: 0.9072 - val_loss: 0.3360\n",
            "Epoch 79/100\n",
            "\u001b[1m120/120\u001b[0m \u001b[32m━━━━━━━━━━━━━━━━━━━━\u001b[0m\u001b[37m\u001b[0m \u001b[1m1s\u001b[0m 5ms/step - accuracy: 0.9016 - loss: 0.3529 - val_accuracy: 0.9076 - val_loss: 0.3353\n",
            "Epoch 80/100\n",
            "\u001b[1m120/120\u001b[0m \u001b[32m━━━━━━━━━━━━━━━━━━━━\u001b[0m\u001b[37m\u001b[0m \u001b[1m1s\u001b[0m 5ms/step - accuracy: 0.9045 - loss: 0.3473 - val_accuracy: 0.9078 - val_loss: 0.3347\n",
            "Epoch 81/100\n",
            "\u001b[1m120/120\u001b[0m \u001b[32m━━━━━━━━━━━━━━━━━━━━\u001b[0m\u001b[37m\u001b[0m \u001b[1m1s\u001b[0m 5ms/step - accuracy: 0.9016 - loss: 0.3534 - val_accuracy: 0.9080 - val_loss: 0.3340\n",
            "Epoch 82/100\n",
            "\u001b[1m120/120\u001b[0m \u001b[32m━━━━━━━━━━━━━━━━━━━━\u001b[0m\u001b[37m\u001b[0m \u001b[1m1s\u001b[0m 5ms/step - accuracy: 0.9036 - loss: 0.3454 - val_accuracy: 0.9083 - val_loss: 0.3334\n",
            "Epoch 83/100\n",
            "\u001b[1m120/120\u001b[0m \u001b[32m━━━━━━━━━━━━━━━━━━━━\u001b[0m\u001b[37m\u001b[0m \u001b[1m1s\u001b[0m 5ms/step - accuracy: 0.9020 - loss: 0.3507 - val_accuracy: 0.9081 - val_loss: 0.3328\n",
            "Epoch 84/100\n",
            "\u001b[1m120/120\u001b[0m \u001b[32m━━━━━━━━━━━━━━━━━━━━\u001b[0m\u001b[37m\u001b[0m \u001b[1m1s\u001b[0m 4ms/step - accuracy: 0.9027 - loss: 0.3510 - val_accuracy: 0.9089 - val_loss: 0.3322\n",
            "Epoch 85/100\n",
            "\u001b[1m120/120\u001b[0m \u001b[32m━━━━━━━━━━━━━━━━━━━━\u001b[0m\u001b[37m\u001b[0m \u001b[1m1s\u001b[0m 5ms/step - accuracy: 0.9048 - loss: 0.3451 - val_accuracy: 0.9088 - val_loss: 0.3316\n",
            "Epoch 86/100\n",
            "\u001b[1m120/120\u001b[0m \u001b[32m━━━━━━━━━━━━━━━━━━━━\u001b[0m\u001b[37m\u001b[0m \u001b[1m1s\u001b[0m 5ms/step - accuracy: 0.9033 - loss: 0.3480 - val_accuracy: 0.9092 - val_loss: 0.3310\n",
            "Epoch 87/100\n",
            "\u001b[1m120/120\u001b[0m \u001b[32m━━━━━━━━━━━━━━━━━━━━\u001b[0m\u001b[37m\u001b[0m \u001b[1m1s\u001b[0m 5ms/step - accuracy: 0.9061 - loss: 0.3386 - val_accuracy: 0.9090 - val_loss: 0.3304\n",
            "Epoch 88/100\n",
            "\u001b[1m120/120\u001b[0m \u001b[32m━━━━━━━━━━━━━━━━━━━━\u001b[0m\u001b[37m\u001b[0m \u001b[1m1s\u001b[0m 5ms/step - accuracy: 0.9022 - loss: 0.3514 - val_accuracy: 0.9091 - val_loss: 0.3299\n",
            "Epoch 89/100\n",
            "\u001b[1m120/120\u001b[0m \u001b[32m━━━━━━━━━━━━━━━━━━━━\u001b[0m\u001b[37m\u001b[0m \u001b[1m1s\u001b[0m 4ms/step - accuracy: 0.9042 - loss: 0.3454 - val_accuracy: 0.9096 - val_loss: 0.3293\n",
            "Epoch 90/100\n",
            "\u001b[1m120/120\u001b[0m \u001b[32m━━━━━━━━━━━━━━━━━━━━\u001b[0m\u001b[37m\u001b[0m \u001b[1m1s\u001b[0m 6ms/step - accuracy: 0.9046 - loss: 0.3433 - val_accuracy: 0.9097 - val_loss: 0.3289\n",
            "Epoch 91/100\n",
            "\u001b[1m120/120\u001b[0m \u001b[32m━━━━━━━━━━━━━━━━━━━━\u001b[0m\u001b[37m\u001b[0m \u001b[1m1s\u001b[0m 8ms/step - accuracy: 0.9062 - loss: 0.3400 - val_accuracy: 0.9097 - val_loss: 0.3283\n",
            "Epoch 92/100\n",
            "\u001b[1m120/120\u001b[0m \u001b[32m━━━━━━━━━━━━━━━━━━━━\u001b[0m\u001b[37m\u001b[0m \u001b[1m1s\u001b[0m 7ms/step - accuracy: 0.9034 - loss: 0.3455 - val_accuracy: 0.9100 - val_loss: 0.3277\n",
            "Epoch 93/100\n",
            "\u001b[1m120/120\u001b[0m \u001b[32m━━━━━━━━━━━━━━━━━━━━\u001b[0m\u001b[37m\u001b[0m \u001b[1m1s\u001b[0m 5ms/step - accuracy: 0.9053 - loss: 0.3412 - val_accuracy: 0.9106 - val_loss: 0.3273\n",
            "Epoch 94/100\n",
            "\u001b[1m120/120\u001b[0m \u001b[32m━━━━━━━━━━━━━━━━━━━━\u001b[0m\u001b[37m\u001b[0m \u001b[1m1s\u001b[0m 5ms/step - accuracy: 0.9064 - loss: 0.3396 - val_accuracy: 0.9106 - val_loss: 0.3267\n",
            "Epoch 95/100\n",
            "\u001b[1m120/120\u001b[0m \u001b[32m━━━━━━━━━━━━━━━━━━━━\u001b[0m\u001b[37m\u001b[0m \u001b[1m1s\u001b[0m 4ms/step - accuracy: 0.9039 - loss: 0.3440 - val_accuracy: 0.9107 - val_loss: 0.3262\n",
            "Epoch 96/100\n",
            "\u001b[1m120/120\u001b[0m \u001b[32m━━━━━━━━━━━━━━━━━━━━\u001b[0m\u001b[37m\u001b[0m \u001b[1m1s\u001b[0m 5ms/step - accuracy: 0.9053 - loss: 0.3396 - val_accuracy: 0.9110 - val_loss: 0.3257\n",
            "Epoch 97/100\n",
            "\u001b[1m120/120\u001b[0m \u001b[32m━━━━━━━━━━━━━━━━━━━━\u001b[0m\u001b[37m\u001b[0m \u001b[1m1s\u001b[0m 5ms/step - accuracy: 0.9053 - loss: 0.3370 - val_accuracy: 0.9109 - val_loss: 0.3252\n",
            "Epoch 98/100\n",
            "\u001b[1m120/120\u001b[0m \u001b[32m━━━━━━━━━━━━━━━━━━━━\u001b[0m\u001b[37m\u001b[0m \u001b[1m1s\u001b[0m 5ms/step - accuracy: 0.9045 - loss: 0.3398 - val_accuracy: 0.9113 - val_loss: 0.3248\n",
            "Epoch 99/100\n",
            "\u001b[1m120/120\u001b[0m \u001b[32m━━━━━━━━━━━━━━━━━━━━\u001b[0m\u001b[37m\u001b[0m \u001b[1m1s\u001b[0m 5ms/step - accuracy: 0.9057 - loss: 0.3370 - val_accuracy: 0.9112 - val_loss: 0.3243\n",
            "Epoch 100/100\n",
            "\u001b[1m120/120\u001b[0m \u001b[32m━━━━━━━━━━━━━━━━━━━━\u001b[0m\u001b[37m\u001b[0m \u001b[1m1s\u001b[0m 4ms/step - accuracy: 0.9056 - loss: 0.3370 - val_accuracy: 0.9111 - val_loss: 0.3238\n"
          ]
        }
      ]
    }
  ]
}