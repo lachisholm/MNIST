{
  "nbformat": 4,
  "nbformat_minor": 0,
  "metadata": {
    "colab": {
      "provenance": [],
      "authorship_tag": "ABX9TyOzkBcuG1VTTfyWW2OxISy/",
      "include_colab_link": true
    },
    "kernelspec": {
      "name": "python3",
      "display_name": "Python 3"
    },
    "language_info": {
      "name": "python"
    }
  },
  "cells": [
    {
      "cell_type": "markdown",
      "metadata": {
        "id": "view-in-github",
        "colab_type": "text"
      },
      "source": [
        "<a href=\"https://colab.research.google.com/github/lachisholm/MNIST/blob/main/MNIST.ipynb\" target=\"_parent\"><img src=\"https://colab.research.google.com/assets/colab-badge.svg\" alt=\"Open In Colab\"/></a>"
      ]
    },
    {
      "cell_type": "markdown",
      "source": [
        "# **Classifying MNIST handwritten digits with softmax regression**"
      ],
      "metadata": {
        "id": "PtD1jwx29tO5"
      }
    },
    {
      "cell_type": "markdown",
      "source": [
        "***Install and Import Libraries***"
      ],
      "metadata": {
        "id": "f-IlGcvXRl5g"
      }
    },
    {
      "cell_type": "code",
      "source": [
        "!pip install tensorflow -q\n",
        "\n",
        "import tensorflow as tf\n",
        "from tensorflow.keras.datasets import mnist\n",
        "from tensorflow.keras.utils import to_categorical"
      ],
      "metadata": {
        "id": "D0EDTM-lRtME"
      },
      "execution_count": 1,
      "outputs": []
    },
    {
      "cell_type": "markdown",
      "source": [
        "***Load and Preprocess MNIST Dataset***"
      ],
      "metadata": {
        "id": "-RqSokjxSV3K"
      }
    },
    {
      "cell_type": "code",
      "source": [
        "# MNIST dataset\n",
        "\n",
        "(x_train, y_train), (x_test, y_test) = mnist.load_data()\n",
        "\n",
        "# Normalize data to [0,1] range and flatten\n",
        "x_train = x_train.reshape(-1, 784).astype('float32') /255.0\n",
        "x_test = x_test.reshape(-1, 784).astype('float32')/255.0\n",
        "\n",
        "# One-hot\n",
        "y_train = to_categorical(y_train, 10)\n",
        "y_test = to_categorical(y_test, 10)"
      ],
      "metadata": {
        "colab": {
          "base_uri": "https://localhost:8080/"
        },
        "id": "NWIyZwE-UJi5",
        "outputId": "9366b629-9221-4fe7-8ee7-ef51e7088a0c"
      },
      "execution_count": 2,
      "outputs": [
        {
          "output_type": "stream",
          "name": "stdout",
          "text": [
            "Downloading data from https://storage.googleapis.com/tensorflow/tf-keras-datasets/mnist.npz\n",
            "\u001b[1m11490434/11490434\u001b[0m \u001b[32m━━━━━━━━━━━━━━━━━━━━\u001b[0m\u001b[37m\u001b[0m \u001b[1m1s\u001b[0m 0us/step\n"
          ]
        }
      ]
    },
    {
      "cell_type": "markdown",
      "source": [
        "***Build Model***"
      ],
      "metadata": {
        "id": "vMb86o2kVN6k"
      }
    },
    {
      "cell_type": "code",
      "source": [
        "# Define the medol\n",
        "\n",
        "from tensorflow.keras.models import Sequential\n",
        "from tensorflow.keras.layers import Input, Dense, Dropout\n",
        "\n",
        "model = tf.keras.Sequential([\n",
        "    Input(shape=(784,)),\n",
        "\n",
        "    Dense(128, activation='relu'),\n",
        "    Dropout(0.2),\n",
        "    Dense(64, activation='relu'),\n",
        "    Dropout(0.2),\n",
        "    Dense(10, activation='softmax')\n",
        "\n",
        "\n",
        "])\n",
        "\n",
        "\n",
        "# Compile\n",
        "model.compile(optimizer='adam',\n",
        "              loss='categorical_crossentropy',\n",
        "              metrics=['accuracy'])"
      ],
      "metadata": {
        "id": "Qi5rlgfrVTem"
      },
      "execution_count": 4,
      "outputs": []
    },
    {
      "cell_type": "markdown",
      "source": [
        "***Train the Model***"
      ],
      "metadata": {
        "id": "OTKzjdmtZ8Jl"
      }
    },
    {
      "cell_type": "code",
      "source": [
        "# Train\n",
        "\n",
        "NUM_EPOCHS = 35\n",
        "BATCH_SIZE = 500\n",
        "\n",
        "history = model.fit(\n",
        "    x_train, y_train,\n",
        "    epochs=NUM_EPOCHS,\n",
        "    batch_size=BATCH_SIZE,\n",
        "    validation_data=(x_test, y_test)\n",
        ")"
      ],
      "metadata": {
        "colab": {
          "base_uri": "https://localhost:8080/"
        },
        "id": "qjnZ9tpyaCIl",
        "outputId": "2f0dd6ce-3ee0-436c-b98f-f37156b7f6f4"
      },
      "execution_count": 5,
      "outputs": [
        {
          "output_type": "stream",
          "name": "stdout",
          "text": [
            "Epoch 1/35\n",
            "\u001b[1m120/120\u001b[0m \u001b[32m━━━━━━━━━━━━━━━━━━━━\u001b[0m\u001b[37m\u001b[0m \u001b[1m4s\u001b[0m 18ms/step - accuracy: 0.6156 - loss: 1.2358 - val_accuracy: 0.9260 - val_loss: 0.2541\n",
            "Epoch 2/35\n",
            "\u001b[1m120/120\u001b[0m \u001b[32m━━━━━━━━━━━━━━━━━━━━\u001b[0m\u001b[37m\u001b[0m \u001b[1m1s\u001b[0m 11ms/step - accuracy: 0.9105 - loss: 0.3134 - val_accuracy: 0.9463 - val_loss: 0.1795\n",
            "Epoch 3/35\n",
            "\u001b[1m120/120\u001b[0m \u001b[32m━━━━━━━━━━━━━━━━━━━━\u001b[0m\u001b[37m\u001b[0m \u001b[1m1s\u001b[0m 11ms/step - accuracy: 0.9337 - loss: 0.2241 - val_accuracy: 0.9564 - val_loss: 0.1426\n",
            "Epoch 4/35\n",
            "\u001b[1m120/120\u001b[0m \u001b[32m━━━━━━━━━━━━━━━━━━━━\u001b[0m\u001b[37m\u001b[0m \u001b[1m3s\u001b[0m 10ms/step - accuracy: 0.9462 - loss: 0.1837 - val_accuracy: 0.9607 - val_loss: 0.1252\n",
            "Epoch 5/35\n",
            "\u001b[1m120/120\u001b[0m \u001b[32m━━━━━━━━━━━━━━━━━━━━\u001b[0m\u001b[37m\u001b[0m \u001b[1m1s\u001b[0m 11ms/step - accuracy: 0.9548 - loss: 0.1544 - val_accuracy: 0.9663 - val_loss: 0.1101\n",
            "Epoch 6/35\n",
            "\u001b[1m120/120\u001b[0m \u001b[32m━━━━━━━━━━━━━━━━━━━━\u001b[0m\u001b[37m\u001b[0m \u001b[1m1s\u001b[0m 11ms/step - accuracy: 0.9602 - loss: 0.1356 - val_accuracy: 0.9689 - val_loss: 0.1046\n",
            "Epoch 7/35\n",
            "\u001b[1m120/120\u001b[0m \u001b[32m━━━━━━━━━━━━━━━━━━━━\u001b[0m\u001b[37m\u001b[0m \u001b[1m3s\u001b[0m 15ms/step - accuracy: 0.9646 - loss: 0.1209 - val_accuracy: 0.9709 - val_loss: 0.0931\n",
            "Epoch 8/35\n",
            "\u001b[1m120/120\u001b[0m \u001b[32m━━━━━━━━━━━━━━━━━━━━\u001b[0m\u001b[37m\u001b[0m \u001b[1m2s\u001b[0m 19ms/step - accuracy: 0.9687 - loss: 0.1048 - val_accuracy: 0.9745 - val_loss: 0.0881\n",
            "Epoch 9/35\n",
            "\u001b[1m120/120\u001b[0m \u001b[32m━━━━━━━━━━━━━━━━━━━━\u001b[0m\u001b[37m\u001b[0m \u001b[1m2s\u001b[0m 10ms/step - accuracy: 0.9707 - loss: 0.0952 - val_accuracy: 0.9736 - val_loss: 0.0834\n",
            "Epoch 10/35\n",
            "\u001b[1m120/120\u001b[0m \u001b[32m━━━━━━━━━━━━━━━━━━━━\u001b[0m\u001b[37m\u001b[0m \u001b[1m3s\u001b[0m 11ms/step - accuracy: 0.9730 - loss: 0.0893 - val_accuracy: 0.9746 - val_loss: 0.0822\n",
            "Epoch 11/35\n",
            "\u001b[1m120/120\u001b[0m \u001b[32m━━━━━━━━━━━━━━━━━━━━\u001b[0m\u001b[37m\u001b[0m \u001b[1m3s\u001b[0m 11ms/step - accuracy: 0.9759 - loss: 0.0820 - val_accuracy: 0.9758 - val_loss: 0.0818\n",
            "Epoch 12/35\n",
            "\u001b[1m120/120\u001b[0m \u001b[32m━━━━━━━━━━━━━━━━━━━━\u001b[0m\u001b[37m\u001b[0m \u001b[1m3s\u001b[0m 11ms/step - accuracy: 0.9744 - loss: 0.0826 - val_accuracy: 0.9774 - val_loss: 0.0774\n",
            "Epoch 13/35\n",
            "\u001b[1m120/120\u001b[0m \u001b[32m━━━━━━━━━━━━━━━━━━━━\u001b[0m\u001b[37m\u001b[0m \u001b[1m3s\u001b[0m 17ms/step - accuracy: 0.9775 - loss: 0.0738 - val_accuracy: 0.9777 - val_loss: 0.0747\n",
            "Epoch 14/35\n",
            "\u001b[1m120/120\u001b[0m \u001b[32m━━━━━━━━━━━━━━━━━━━━\u001b[0m\u001b[37m\u001b[0m \u001b[1m2s\u001b[0m 11ms/step - accuracy: 0.9789 - loss: 0.0673 - val_accuracy: 0.9782 - val_loss: 0.0713\n",
            "Epoch 15/35\n",
            "\u001b[1m120/120\u001b[0m \u001b[32m━━━━━━━━━━━━━━━━━━━━\u001b[0m\u001b[37m\u001b[0m \u001b[1m1s\u001b[0m 10ms/step - accuracy: 0.9807 - loss: 0.0610 - val_accuracy: 0.9775 - val_loss: 0.0744\n",
            "Epoch 16/35\n",
            "\u001b[1m120/120\u001b[0m \u001b[32m━━━━━━━━━━━━━━━━━━━━\u001b[0m\u001b[37m\u001b[0m \u001b[1m3s\u001b[0m 11ms/step - accuracy: 0.9818 - loss: 0.0597 - val_accuracy: 0.9795 - val_loss: 0.0741\n",
            "Epoch 17/35\n",
            "\u001b[1m120/120\u001b[0m \u001b[32m━━━━━━━━━━━━━━━━━━━━\u001b[0m\u001b[37m\u001b[0m \u001b[1m1s\u001b[0m 11ms/step - accuracy: 0.9822 - loss: 0.0587 - val_accuracy: 0.9780 - val_loss: 0.0716\n",
            "Epoch 18/35\n",
            "\u001b[1m120/120\u001b[0m \u001b[32m━━━━━━━━━━━━━━━━━━━━\u001b[0m\u001b[37m\u001b[0m \u001b[1m1s\u001b[0m 10ms/step - accuracy: 0.9839 - loss: 0.0502 - val_accuracy: 0.9789 - val_loss: 0.0748\n",
            "Epoch 19/35\n",
            "\u001b[1m120/120\u001b[0m \u001b[32m━━━━━━━━━━━━━━━━━━━━\u001b[0m\u001b[37m\u001b[0m \u001b[1m1s\u001b[0m 11ms/step - accuracy: 0.9836 - loss: 0.0507 - val_accuracy: 0.9793 - val_loss: 0.0734\n",
            "Epoch 20/35\n",
            "\u001b[1m120/120\u001b[0m \u001b[32m━━━━━━━━━━━━━━━━━━━━\u001b[0m\u001b[37m\u001b[0m \u001b[1m3s\u001b[0m 18ms/step - accuracy: 0.9841 - loss: 0.0495 - val_accuracy: 0.9797 - val_loss: 0.0710\n",
            "Epoch 21/35\n",
            "\u001b[1m120/120\u001b[0m \u001b[32m━━━━━━━━━━━━━━━━━━━━\u001b[0m\u001b[37m\u001b[0m \u001b[1m2s\u001b[0m 14ms/step - accuracy: 0.9842 - loss: 0.0486 - val_accuracy: 0.9780 - val_loss: 0.0725\n",
            "Epoch 22/35\n",
            "\u001b[1m120/120\u001b[0m \u001b[32m━━━━━━━━━━━━━━━━━━━━\u001b[0m\u001b[37m\u001b[0m \u001b[1m2s\u001b[0m 11ms/step - accuracy: 0.9854 - loss: 0.0448 - val_accuracy: 0.9794 - val_loss: 0.0720\n",
            "Epoch 23/35\n",
            "\u001b[1m120/120\u001b[0m \u001b[32m━━━━━━━━━━━━━━━━━━━━\u001b[0m\u001b[37m\u001b[0m \u001b[1m1s\u001b[0m 11ms/step - accuracy: 0.9861 - loss: 0.0433 - val_accuracy: 0.9809 - val_loss: 0.0704\n",
            "Epoch 24/35\n",
            "\u001b[1m120/120\u001b[0m \u001b[32m━━━━━━━━━━━━━━━━━━━━\u001b[0m\u001b[37m\u001b[0m \u001b[1m1s\u001b[0m 10ms/step - accuracy: 0.9860 - loss: 0.0425 - val_accuracy: 0.9795 - val_loss: 0.0729\n",
            "Epoch 25/35\n",
            "\u001b[1m120/120\u001b[0m \u001b[32m━━━━━━━━━━━━━━━━━━━━\u001b[0m\u001b[37m\u001b[0m \u001b[1m3s\u001b[0m 11ms/step - accuracy: 0.9870 - loss: 0.0415 - val_accuracy: 0.9792 - val_loss: 0.0740\n",
            "Epoch 26/35\n",
            "\u001b[1m120/120\u001b[0m \u001b[32m━━━━━━━━━━━━━━━━━━━━\u001b[0m\u001b[37m\u001b[0m \u001b[1m3s\u001b[0m 14ms/step - accuracy: 0.9887 - loss: 0.0354 - val_accuracy: 0.9801 - val_loss: 0.0754\n",
            "Epoch 27/35\n",
            "\u001b[1m120/120\u001b[0m \u001b[32m━━━━━━━━━━━━━━━━━━━━\u001b[0m\u001b[37m\u001b[0m \u001b[1m2s\u001b[0m 17ms/step - accuracy: 0.9869 - loss: 0.0381 - val_accuracy: 0.9813 - val_loss: 0.0698\n",
            "Epoch 28/35\n",
            "\u001b[1m120/120\u001b[0m \u001b[32m━━━━━━━━━━━━━━━━━━━━\u001b[0m\u001b[37m\u001b[0m \u001b[1m2s\u001b[0m 11ms/step - accuracy: 0.9881 - loss: 0.0350 - val_accuracy: 0.9805 - val_loss: 0.0717\n",
            "Epoch 29/35\n",
            "\u001b[1m120/120\u001b[0m \u001b[32m━━━━━━━━━━━━━━━━━━━━\u001b[0m\u001b[37m\u001b[0m \u001b[1m1s\u001b[0m 11ms/step - accuracy: 0.9887 - loss: 0.0338 - val_accuracy: 0.9805 - val_loss: 0.0682\n",
            "Epoch 30/35\n",
            "\u001b[1m120/120\u001b[0m \u001b[32m━━━━━━━━━━━━━━━━━━━━\u001b[0m\u001b[37m\u001b[0m \u001b[1m3s\u001b[0m 11ms/step - accuracy: 0.9885 - loss: 0.0329 - val_accuracy: 0.9810 - val_loss: 0.0699\n",
            "Epoch 31/35\n",
            "\u001b[1m120/120\u001b[0m \u001b[32m━━━━━━━━━━━━━━━━━━━━\u001b[0m\u001b[37m\u001b[0m \u001b[1m1s\u001b[0m 11ms/step - accuracy: 0.9889 - loss: 0.0337 - val_accuracy: 0.9808 - val_loss: 0.0710\n",
            "Epoch 32/35\n",
            "\u001b[1m120/120\u001b[0m \u001b[32m━━━━━━━━━━━━━━━━━━━━\u001b[0m\u001b[37m\u001b[0m \u001b[1m3s\u001b[0m 11ms/step - accuracy: 0.9896 - loss: 0.0311 - val_accuracy: 0.9804 - val_loss: 0.0741\n",
            "Epoch 33/35\n",
            "\u001b[1m120/120\u001b[0m \u001b[32m━━━━━━━━━━━━━━━━━━━━\u001b[0m\u001b[37m\u001b[0m \u001b[1m2s\u001b[0m 13ms/step - accuracy: 0.9897 - loss: 0.0305 - val_accuracy: 0.9808 - val_loss: 0.0736\n",
            "Epoch 34/35\n",
            "\u001b[1m120/120\u001b[0m \u001b[32m━━━━━━━━━━━━━━━━━━━━\u001b[0m\u001b[37m\u001b[0m \u001b[1m3s\u001b[0m 15ms/step - accuracy: 0.9902 - loss: 0.0296 - val_accuracy: 0.9812 - val_loss: 0.0722\n",
            "Epoch 35/35\n",
            "\u001b[1m120/120\u001b[0m \u001b[32m━━━━━━━━━━━━━━━━━━━━\u001b[0m\u001b[37m\u001b[0m \u001b[1m1s\u001b[0m 10ms/step - accuracy: 0.9908 - loss: 0.0281 - val_accuracy: 0.9808 - val_loss: 0.0730\n"
          ]
        }
      ]
    },
    {
      "cell_type": "markdown",
      "source": [
        "***Evaluate the Model***"
      ],
      "metadata": {
        "id": "S-Xg9vG-bPAP"
      }
    },
    {
      "cell_type": "code",
      "source": [
        "test_loss, test_accuracy = model.evaluate(x_test, y_test)\n",
        "print(f\"Test Accuracy: [test_accuracy * 100:.2f]%\")"
      ],
      "metadata": {
        "colab": {
          "base_uri": "https://localhost:8080/"
        },
        "id": "X9kL7TOqbb0t",
        "outputId": "45286129-ddb2-4a9b-f40c-5d9975ba2a11"
      },
      "execution_count": 6,
      "outputs": [
        {
          "output_type": "stream",
          "name": "stdout",
          "text": [
            "\u001b[1m313/313\u001b[0m \u001b[32m━━━━━━━━━━━━━━━━━━━━\u001b[0m\u001b[37m\u001b[0m \u001b[1m1s\u001b[0m 2ms/step - accuracy: 0.9774 - loss: 0.0890\n",
            "Test Accuracy: [test_accuracy * 100:.2f]%\n"
          ]
        }
      ]
    },
    {
      "cell_type": "markdown",
      "source": [
        "***Save the Model***"
      ],
      "metadata": {
        "id": "T6CP4NaRjLUY"
      }
    },
    {
      "cell_type": "code",
      "source": [
        "# Save\n",
        "\n",
        "model.save('mnist_model.h5')\n",
        "print(\"Model saved successfully\")"
      ],
      "metadata": {
        "id": "D-OZ1TQmjPq-"
      },
      "execution_count": null,
      "outputs": []
    }
  ]
}